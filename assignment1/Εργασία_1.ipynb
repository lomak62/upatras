{
 "nbformat": 4,
 "nbformat_minor": 0,
 "metadata": {
  "colab": {
   "provenance": [],
   "toc_visible": true
  },
  "kernelspec": {
   "name": "python3",
   "display_name": "Python 3"
  },
  "language_info": {
   "name": "python"
  }
 },
 "cells": [
  {
   "cell_type": "markdown",
   "source": [
    "## Άσκηση 1"
   ],
   "metadata": {
    "id": "MklZr205tSaH"
   }
  },
  {
   "cell_type": "code",
   "source": [
    "def print_pattern(rows):\n",
    "    \"\"\" Εμφανίζει στην οθόνη τις γραμμές κειμένου \"\"\"\n",
    "    for i in range(rows):\n",
    "        stars = '*' * (i + 1)  # Αυξάνεται ο αριθμός των αστερίσκων σε κάθε γραμμή\n",
    "        spaces = ' ' * (2 * (rows - i) - 1)  # Μειώνεται ο αριθμός των κενών σε κάθε γραμμή\n",
    "        print(stars + spaces + stars)"
   ],
   "metadata": {
    "id": "RBuo6SzqtQ1u"
   },
   "execution_count": null,
   "outputs": []
  },
  {
   "cell_type": "code",
   "source": [
    "def main():\n",
    "    while True:\n",
    "        try:\n",
    "            n = int(input(\"Δώστε το n (1-20): \"))\n",
    "            if n not in range(1, 21):\n",
    "                continue\n",
    "            print_pattern(n)\n",
    "        except ValueError:\n",
    "            print(\"Τέλος προγράμματος.\")\n",
    "            break\n",
    "\n",
    "\n",
    "if __name__ == \"__main__\":\n",
    "    main()"
   ],
   "metadata": {
    "id": "XSVxYnritbVg"
   },
   "execution_count": null,
   "outputs": []
  },
  {
   "cell_type": "markdown",
   "source": [
    "## Άσκηση 2"
   ],
   "metadata": {
    "id": "USUCDFnatduE"
   }
  },
  {
   "cell_type": "code",
   "source": [
    "def check_invalid_characters(input_string):\n",
    "    \"\"\" Έλεγχος αν η συμβολοσειρά περιέχει μη επιτρεπτούς χαρακτήρες \"\"\"\n",
    "    return next((char for char in input_string if not (char.isdigit() or char.isspace() or char == '-')), None)"
   ],
   "metadata": {
    "id": "E2BnapbxthQA"
   },
   "execution_count": null,
   "outputs": []
  },
  {
   "cell_type": "code",
   "source": [
    "def is_luhn_valid(card_number):\n",
    "    \"\"\" Έλεγχος εγκυρότητας του αριθμού της πιστωτικής κάρτας με τον αλγόριθμο του Luhn \"\"\"\n",
    "\n",
    "    # Τα ψηφία στις άρτιες θέσεις\n",
    "    digits_at_even_positions = [int(card_number[i]) for i in range(1, 16, 2)]\n",
    "    # Τα ψηφία στις περιττές θέσεις διπλασιασμένα\n",
    "    digits_at_odd_positions = [int(card_number[i]) * 2 for i in range(0, 16, 2)]\n",
    "    # Προσθέτουμε τα ψηφία των διψήφιων διπλασιασμένων αριθμών ώστε να γίνουν μονοψήφιοι\n",
    "    digits_at_odd_positions_converted = [sum(int(digit) for digit in str(num)) if num >= 10 else num\n",
    "                                         for num in digits_at_odd_positions]\n",
    "    # Άθροισμα των ψηφίων στις άρτιες θέσεις με το άθροισμα των διπλασιασμένων ψηφίων στις περιττές θέσεις\n",
    "    total_sum = sum(digits_at_even_positions) + sum(digits_at_odd_positions_converted)\n",
    "    # Έλεγχος του τελικού αθροίσματος\n",
    "    print(total_sum)\n",
    "    print(total_sum % 10)\n",
    "    return total_sum % 10 == 0"
   ],
   "metadata": {
    "id": "4J1wD9AatkuF"
   },
   "execution_count": null,
   "outputs": []
  },
  {
   "cell_type": "code",
   "source": [
    "def prompt_user_to_reenter():\n",
    "    \"\"\" Ζητάει από τον χρήστη να επαναλάβει την εισαγωγή του αριθμού της κάρτας \"\"\"\n",
    "    print(\"Παρακαλώ επαναλάβετε την εισαγωγή.\")"
   ],
   "metadata": {
    "id": "MXqiR0lttnB-"
   },
   "execution_count": null,
   "outputs": []
  },
  {
   "cell_type": "code",
   "source": [
    "def main():\n",
    "    while True:\n",
    "        input_string = input(\"Πληκτρολογήστε τον αριθμό της κάρτας: \")\n",
    "\n",
    "        # Έλεγχος για μη επιτρεπτούς χαρακτήρες\n",
    "        invalid_char = check_invalid_characters(input_string)\n",
    "        if invalid_char:\n",
    "            print(f\"Η συμβολοσειρά περιέχει τον μη επιτρεπτό χαρακτήρα '{invalid_char}'.\")\n",
    "            prompt_user_to_reenter()\n",
    "            continue\n",
    "\n",
    "        # Αφαιρούμε τα κενά και τις παύλες από τη συμβολοσειρά\n",
    "        digits = ''.join(char for char in input_string if char.isdigit())\n",
    "\n",
    "        # Έλεγχος αν έχουν εισαχθεί ακριβώς 16 ψηφία\n",
    "        if len(digits) != 16:\n",
    "            print(\"Ο αριθμός πρέπει να έχει 16 ψηφία.\")\n",
    "            prompt_user_to_reenter()\n",
    "            continue\n",
    "\n",
    "        # Μορφοποιούμε τον αριθμό στη μορφή xxxx-xxxx-xxxx-xxxx\n",
    "        card_number = f\"{digits[:4]}-{digits[4:8]}-{digits[8:12]}-{digits[12:]}\"\n",
    "\n",
    "        # Έλεγχος εγκυρότητας σύμφωνα με τον αλγόριθμο Luhn\n",
    "        if is_luhn_valid(digits):\n",
    "            print(f\"Ο αριθμός {card_number} είναι ΕΓΚΥΡΟΣ.\")\n",
    "            print(\"Τέλος προγράμματος.\")\n",
    "            break\n",
    "        else:\n",
    "            print(f\"Ο αριθμός {card_number} είναι ΑΚΥΡΟΣ.\")\n",
    "            prompt_user_to_reenter()\n",
    "\n",
    "\n",
    "if __name__ == \"__main__\":\n",
    "    main()"
   ],
   "metadata": {
    "id": "gpAn3jkbtpUs"
   },
   "execution_count": null,
   "outputs": []
  }
 ]
}
